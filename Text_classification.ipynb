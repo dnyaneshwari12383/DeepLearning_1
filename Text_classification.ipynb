{
  "nbformat": 4,
  "nbformat_minor": 0,
  "metadata": {
    "colab": {
      "provenance": [],
      "gpuType": "T4",
      "authorship_tag": "ABX9TyPs9ucRwtXJqpRhAYBsEUB1",
      "include_colab_link": true
    },
    "kernelspec": {
      "name": "python3",
      "display_name": "Python 3"
    },
    "language_info": {
      "name": "python"
    },
    "accelerator": "GPU"
  },
  "cells": [
    {
      "cell_type": "markdown",
      "metadata": {
        "id": "view-in-github",
        "colab_type": "text"
      },
      "source": [
        "<a href=\"https://colab.research.google.com/github/dnyaneshwari12383/DeepLearning_1/blob/main/Text_classification.ipynb\" target=\"_parent\"><img src=\"https://colab.research.google.com/assets/colab-badge.svg\" alt=\"Open In Colab\"/></a>"
      ]
    },
    {
      "cell_type": "markdown",
      "source": [
        "# Sentiment Analysis for text"
      ],
      "metadata": {
        "id": "dwPDISrd9z-3"
      }
    },
    {
      "cell_type": "markdown",
      "source": [
        "![image.png](data:image/png;base64,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)"
      ],
      "metadata": {
        "id": "YNBcuHNl97Z0"
      }
    },
    {
      "cell_type": "code",
      "execution_count": 1,
      "metadata": {
        "id": "rqAkEXTJ9l9C"
      },
      "outputs": [],
      "source": [
        "st = \"I Liked the Place ....!\""
      ]
    },
    {
      "cell_type": "code",
      "source": [
        "s2 = st.lower()"
      ],
      "metadata": {
        "id": "cSDH2Ixt-API"
      },
      "execution_count": 2,
      "outputs": []
    },
    {
      "cell_type": "code",
      "source": [
        "s2"
      ],
      "metadata": {
        "colab": {
          "base_uri": "https://localhost:8080/",
          "height": 36
        },
        "id": "8SCjGuLN-GFc",
        "outputId": "4e2f50bf-ad83-412c-e04f-e9197ef49bfb"
      },
      "execution_count": 3,
      "outputs": [
        {
          "output_type": "execute_result",
          "data": {
            "text/plain": [
              "'i liked the place ....!'"
            ],
            "application/vnd.google.colaboratory.intrinsic+json": {
              "type": "string"
            }
          },
          "metadata": {},
          "execution_count": 3
        }
      ]
    },
    {
      "cell_type": "code",
      "source": [
        "import re"
      ],
      "metadata": {
        "id": "9S9zl4tN-Hzq"
      },
      "execution_count": 4,
      "outputs": []
    },
    {
      "cell_type": "code",
      "source": [
        "re.sub(\"[^a-z ]\",\"\",s2)"
      ],
      "metadata": {
        "colab": {
          "base_uri": "https://localhost:8080/",
          "height": 36
        },
        "id": "m_dYxtwv-MFw",
        "outputId": "51b50ad7-ba5f-4c66-c9f2-68f18773dfe6"
      },
      "execution_count": 6,
      "outputs": [
        {
          "output_type": "execute_result",
          "data": {
            "text/plain": [
              "'i liked the place '"
            ],
            "application/vnd.google.colaboratory.intrinsic+json": {
              "type": "string"
            }
          },
          "metadata": {},
          "execution_count": 6
        }
      ]
    },
    {
      "cell_type": "code",
      "source": [
        "def clean_text(text):\n",
        "  text = text.lower()\n",
        "  text = re.sub(\"[^a-z ]\", \"\", text)\n",
        "  return text"
      ],
      "metadata": {
        "id": "ltwJVpLM-dt3"
      },
      "execution_count": 7,
      "outputs": []
    },
    {
      "cell_type": "code",
      "source": [
        "clean_text(\"I did not liked the taste, of Sandwich ..!\")"
      ],
      "metadata": {
        "colab": {
          "base_uri": "https://localhost:8080/",
          "height": 36
        },
        "id": "xmBiRhUS-oMb",
        "outputId": "4148214b-4d90-49c2-fd93-346b79c7918b"
      },
      "execution_count": 8,
      "outputs": [
        {
          "output_type": "execute_result",
          "data": {
            "text/plain": [
              "'i did not liked the taste of sandwich '"
            ],
            "application/vnd.google.colaboratory.intrinsic+json": {
              "type": "string"
            }
          },
          "metadata": {},
          "execution_count": 8
        }
      ]
    },
    {
      "cell_type": "markdown",
      "source": [
        "# Step 1 - Data ingestion"
      ],
      "metadata": {
        "id": "mBr2b90p-_I1"
      }
    },
    {
      "cell_type": "code",
      "source": [
        "url = \"https://raw.githubusercontent.com/utkarshg1/Neural-Net-Datasets/refs/heads/main/Restaurant_Reviews.tsv\"\n",
        ""
      ],
      "metadata": {
        "id": "9ebgq8bH-r8f"
      },
      "execution_count": 9,
      "outputs": []
    },
    {
      "cell_type": "code",
      "source": [
        "print(\"sentence1\\tSentence 2\")"
      ],
      "metadata": {
        "colab": {
          "base_uri": "https://localhost:8080/"
        },
        "id": "ECTi-6_f_Df1",
        "outputId": "2d37df69-ab12-45d0-aac2-1f9ea1258d28"
      },
      "execution_count": 10,
      "outputs": [
        {
          "output_type": "stream",
          "name": "stdout",
          "text": [
            "sentence1\tSentence 2\n"
          ]
        }
      ]
    },
    {
      "cell_type": "code",
      "source": [
        "import pandas as pd\n",
        "df = pd.read_csv(url, sep=\"\\t\")\n",
        "df.head()"
      ],
      "metadata": {
        "colab": {
          "base_uri": "https://localhost:8080/",
          "height": 206
        },
        "id": "L5Kn8gyU_Fx3",
        "outputId": "61d7702f-6778-4be2-f6f5-8d79847575c7"
      },
      "execution_count": 11,
      "outputs": [
        {
          "output_type": "execute_result",
          "data": {
            "text/plain": [
              "                                              Review  Liked\n",
              "0                           Wow... Loved this place.      1\n",
              "1                                 Crust is not good.      0\n",
              "2          Not tasty and the texture was just nasty.      0\n",
              "3  Stopped by during the late May bank holiday of...      1\n",
              "4  The selection on the menu was great and so wer...      1"
            ],
            "text/html": [
              "\n",
              "  <div id=\"df-eb0fc45f-2848-4a98-be3f-4fa68ea66ec7\" class=\"colab-df-container\">\n",
              "    <div>\n",
              "<style scoped>\n",
              "    .dataframe tbody tr th:only-of-type {\n",
              "        vertical-align: middle;\n",
              "    }\n",
              "\n",
              "    .dataframe tbody tr th {\n",
              "        vertical-align: top;\n",
              "    }\n",
              "\n",
              "    .dataframe thead th {\n",
              "        text-align: right;\n",
              "    }\n",
              "</style>\n",
              "<table border=\"1\" class=\"dataframe\">\n",
              "  <thead>\n",
              "    <tr style=\"text-align: right;\">\n",
              "      <th></th>\n",
              "      <th>Review</th>\n",
              "      <th>Liked</th>\n",
              "    </tr>\n",
              "  </thead>\n",
              "  <tbody>\n",
              "    <tr>\n",
              "      <th>0</th>\n",
              "      <td>Wow... Loved this place.</td>\n",
              "      <td>1</td>\n",
              "    </tr>\n",
              "    <tr>\n",
              "      <th>1</th>\n",
              "      <td>Crust is not good.</td>\n",
              "      <td>0</td>\n",
              "    </tr>\n",
              "    <tr>\n",
              "      <th>2</th>\n",
              "      <td>Not tasty and the texture was just nasty.</td>\n",
              "      <td>0</td>\n",
              "    </tr>\n",
              "    <tr>\n",
              "      <th>3</th>\n",
              "      <td>Stopped by during the late May bank holiday of...</td>\n",
              "      <td>1</td>\n",
              "    </tr>\n",
              "    <tr>\n",
              "      <th>4</th>\n",
              "      <td>The selection on the menu was great and so wer...</td>\n",
              "      <td>1</td>\n",
              "    </tr>\n",
              "  </tbody>\n",
              "</table>\n",
              "</div>\n",
              "    <div class=\"colab-df-buttons\">\n",
              "\n",
              "  <div class=\"colab-df-container\">\n",
              "    <button class=\"colab-df-convert\" onclick=\"convertToInteractive('df-eb0fc45f-2848-4a98-be3f-4fa68ea66ec7')\"\n",
              "            title=\"Convert this dataframe to an interactive table.\"\n",
              "            style=\"display:none;\">\n",
              "\n",
              "  <svg xmlns=\"http://www.w3.org/2000/svg\" height=\"24px\" viewBox=\"0 -960 960 960\">\n",
              "    <path d=\"M120-120v-720h720v720H120Zm60-500h600v-160H180v160Zm220 220h160v-160H400v160Zm0 220h160v-160H400v160ZM180-400h160v-160H180v160Zm440 0h160v-160H620v160ZM180-180h160v-160H180v160Zm440 0h160v-160H620v160Z\"/>\n",
              "  </svg>\n",
              "    </button>\n",
              "\n",
              "  <style>\n",
              "    .colab-df-container {\n",
              "      display:flex;\n",
              "      gap: 12px;\n",
              "    }\n",
              "\n",
              "    .colab-df-convert {\n",
              "      background-color: #E8F0FE;\n",
              "      border: none;\n",
              "      border-radius: 50%;\n",
              "      cursor: pointer;\n",
              "      display: none;\n",
              "      fill: #1967D2;\n",
              "      height: 32px;\n",
              "      padding: 0 0 0 0;\n",
              "      width: 32px;\n",
              "    }\n",
              "\n",
              "    .colab-df-convert:hover {\n",
              "      background-color: #E2EBFA;\n",
              "      box-shadow: 0px 1px 2px rgba(60, 64, 67, 0.3), 0px 1px 3px 1px rgba(60, 64, 67, 0.15);\n",
              "      fill: #174EA6;\n",
              "    }\n",
              "\n",
              "    .colab-df-buttons div {\n",
              "      margin-bottom: 4px;\n",
              "    }\n",
              "\n",
              "    [theme=dark] .colab-df-convert {\n",
              "      background-color: #3B4455;\n",
              "      fill: #D2E3FC;\n",
              "    }\n",
              "\n",
              "    [theme=dark] .colab-df-convert:hover {\n",
              "      background-color: #434B5C;\n",
              "      box-shadow: 0px 1px 3px 1px rgba(0, 0, 0, 0.15);\n",
              "      filter: drop-shadow(0px 1px 2px rgba(0, 0, 0, 0.3));\n",
              "      fill: #FFFFFF;\n",
              "    }\n",
              "  </style>\n",
              "\n",
              "    <script>\n",
              "      const buttonEl =\n",
              "        document.querySelector('#df-eb0fc45f-2848-4a98-be3f-4fa68ea66ec7 button.colab-df-convert');\n",
              "      buttonEl.style.display =\n",
              "        google.colab.kernel.accessAllowed ? 'block' : 'none';\n",
              "\n",
              "      async function convertToInteractive(key) {\n",
              "        const element = document.querySelector('#df-eb0fc45f-2848-4a98-be3f-4fa68ea66ec7');\n",
              "        const dataTable =\n",
              "          await google.colab.kernel.invokeFunction('convertToInteractive',\n",
              "                                                    [key], {});\n",
              "        if (!dataTable) return;\n",
              "\n",
              "        const docLinkHtml = 'Like what you see? Visit the ' +\n",
              "          '<a target=\"_blank\" href=https://colab.research.google.com/notebooks/data_table.ipynb>data table notebook</a>'\n",
              "          + ' to learn more about interactive tables.';\n",
              "        element.innerHTML = '';\n",
              "        dataTable['output_type'] = 'display_data';\n",
              "        await google.colab.output.renderOutput(dataTable, element);\n",
              "        const docLink = document.createElement('div');\n",
              "        docLink.innerHTML = docLinkHtml;\n",
              "        element.appendChild(docLink);\n",
              "      }\n",
              "    </script>\n",
              "  </div>\n",
              "\n",
              "\n",
              "<div id=\"df-abb2e3a5-3709-4d7b-9f12-3f21b49f60cd\">\n",
              "  <button class=\"colab-df-quickchart\" onclick=\"quickchart('df-abb2e3a5-3709-4d7b-9f12-3f21b49f60cd')\"\n",
              "            title=\"Suggest charts\"\n",
              "            style=\"display:none;\">\n",
              "\n",
              "<svg xmlns=\"http://www.w3.org/2000/svg\" height=\"24px\"viewBox=\"0 0 24 24\"\n",
              "     width=\"24px\">\n",
              "    <g>\n",
              "        <path d=\"M19 3H5c-1.1 0-2 .9-2 2v14c0 1.1.9 2 2 2h14c1.1 0 2-.9 2-2V5c0-1.1-.9-2-2-2zM9 17H7v-7h2v7zm4 0h-2V7h2v10zm4 0h-2v-4h2v4z\"/>\n",
              "    </g>\n",
              "</svg>\n",
              "  </button>\n",
              "\n",
              "<style>\n",
              "  .colab-df-quickchart {\n",
              "      --bg-color: #E8F0FE;\n",
              "      --fill-color: #1967D2;\n",
              "      --hover-bg-color: #E2EBFA;\n",
              "      --hover-fill-color: #174EA6;\n",
              "      --disabled-fill-color: #AAA;\n",
              "      --disabled-bg-color: #DDD;\n",
              "  }\n",
              "\n",
              "  [theme=dark] .colab-df-quickchart {\n",
              "      --bg-color: #3B4455;\n",
              "      --fill-color: #D2E3FC;\n",
              "      --hover-bg-color: #434B5C;\n",
              "      --hover-fill-color: #FFFFFF;\n",
              "      --disabled-bg-color: #3B4455;\n",
              "      --disabled-fill-color: #666;\n",
              "  }\n",
              "\n",
              "  .colab-df-quickchart {\n",
              "    background-color: var(--bg-color);\n",
              "    border: none;\n",
              "    border-radius: 50%;\n",
              "    cursor: pointer;\n",
              "    display: none;\n",
              "    fill: var(--fill-color);\n",
              "    height: 32px;\n",
              "    padding: 0;\n",
              "    width: 32px;\n",
              "  }\n",
              "\n",
              "  .colab-df-quickchart:hover {\n",
              "    background-color: var(--hover-bg-color);\n",
              "    box-shadow: 0 1px 2px rgba(60, 64, 67, 0.3), 0 1px 3px 1px rgba(60, 64, 67, 0.15);\n",
              "    fill: var(--button-hover-fill-color);\n",
              "  }\n",
              "\n",
              "  .colab-df-quickchart-complete:disabled,\n",
              "  .colab-df-quickchart-complete:disabled:hover {\n",
              "    background-color: var(--disabled-bg-color);\n",
              "    fill: var(--disabled-fill-color);\n",
              "    box-shadow: none;\n",
              "  }\n",
              "\n",
              "  .colab-df-spinner {\n",
              "    border: 2px solid var(--fill-color);\n",
              "    border-color: transparent;\n",
              "    border-bottom-color: var(--fill-color);\n",
              "    animation:\n",
              "      spin 1s steps(1) infinite;\n",
              "  }\n",
              "\n",
              "  @keyframes spin {\n",
              "    0% {\n",
              "      border-color: transparent;\n",
              "      border-bottom-color: var(--fill-color);\n",
              "      border-left-color: var(--fill-color);\n",
              "    }\n",
              "    20% {\n",
              "      border-color: transparent;\n",
              "      border-left-color: var(--fill-color);\n",
              "      border-top-color: var(--fill-color);\n",
              "    }\n",
              "    30% {\n",
              "      border-color: transparent;\n",
              "      border-left-color: var(--fill-color);\n",
              "      border-top-color: var(--fill-color);\n",
              "      border-right-color: var(--fill-color);\n",
              "    }\n",
              "    40% {\n",
              "      border-color: transparent;\n",
              "      border-right-color: var(--fill-color);\n",
              "      border-top-color: var(--fill-color);\n",
              "    }\n",
              "    60% {\n",
              "      border-color: transparent;\n",
              "      border-right-color: var(--fill-color);\n",
              "    }\n",
              "    80% {\n",
              "      border-color: transparent;\n",
              "      border-right-color: var(--fill-color);\n",
              "      border-bottom-color: var(--fill-color);\n",
              "    }\n",
              "    90% {\n",
              "      border-color: transparent;\n",
              "      border-bottom-color: var(--fill-color);\n",
              "    }\n",
              "  }\n",
              "</style>\n",
              "\n",
              "  <script>\n",
              "    async function quickchart(key) {\n",
              "      const quickchartButtonEl =\n",
              "        document.querySelector('#' + key + ' button');\n",
              "      quickchartButtonEl.disabled = true;  // To prevent multiple clicks.\n",
              "      quickchartButtonEl.classList.add('colab-df-spinner');\n",
              "      try {\n",
              "        const charts = await google.colab.kernel.invokeFunction(\n",
              "            'suggestCharts', [key], {});\n",
              "      } catch (error) {\n",
              "        console.error('Error during call to suggestCharts:', error);\n",
              "      }\n",
              "      quickchartButtonEl.classList.remove('colab-df-spinner');\n",
              "      quickchartButtonEl.classList.add('colab-df-quickchart-complete');\n",
              "    }\n",
              "    (() => {\n",
              "      let quickchartButtonEl =\n",
              "        document.querySelector('#df-abb2e3a5-3709-4d7b-9f12-3f21b49f60cd button');\n",
              "      quickchartButtonEl.style.display =\n",
              "        google.colab.kernel.accessAllowed ? 'block' : 'none';\n",
              "    })();\n",
              "  </script>\n",
              "</div>\n",
              "\n",
              "    </div>\n",
              "  </div>\n"
            ],
            "application/vnd.google.colaboratory.intrinsic+json": {
              "type": "dataframe",
              "variable_name": "df",
              "summary": "{\n  \"name\": \"df\",\n  \"rows\": 1000,\n  \"fields\": [\n    {\n      \"column\": \"Review\",\n      \"properties\": {\n        \"dtype\": \"string\",\n        \"num_unique_values\": 996,\n        \"samples\": [\n          \"They were excellent.\",\n          \"Your servers suck, wait, correction, our server Heimer sucked.\",\n          \"Will be back again!\"\n        ],\n        \"semantic_type\": \"\",\n        \"description\": \"\"\n      }\n    },\n    {\n      \"column\": \"Liked\",\n      \"properties\": {\n        \"dtype\": \"number\",\n        \"std\": 0,\n        \"min\": 0,\n        \"max\": 1,\n        \"num_unique_values\": 2,\n        \"samples\": [\n          0,\n          1\n        ],\n        \"semantic_type\": \"\",\n        \"description\": \"\"\n      }\n    }\n  ]\n}"
            }
          },
          "metadata": {},
          "execution_count": 11
        }
      ]
    },
    {
      "cell_type": "markdown",
      "source": [
        "# Step 2 - Clean the reviews"
      ],
      "metadata": {
        "id": "Ai7JwcgE_L2x"
      }
    },
    {
      "cell_type": "code",
      "source": [
        "df.info()"
      ],
      "metadata": {
        "colab": {
          "base_uri": "https://localhost:8080/"
        },
        "id": "KFbLI6pv_I_4",
        "outputId": "0abda342-e85c-4b6e-b5c5-367646d47d42"
      },
      "execution_count": 12,
      "outputs": [
        {
          "output_type": "stream",
          "name": "stdout",
          "text": [
            "<class 'pandas.core.frame.DataFrame'>\n",
            "RangeIndex: 1000 entries, 0 to 999\n",
            "Data columns (total 2 columns):\n",
            " #   Column  Non-Null Count  Dtype \n",
            "---  ------  --------------  ----- \n",
            " 0   Review  1000 non-null   object\n",
            " 1   Liked   1000 non-null   int64 \n",
            "dtypes: int64(1), object(1)\n",
            "memory usage: 15.8+ KB\n"
          ]
        }
      ]
    },
    {
      "cell_type": "code",
      "source": [
        "df[\"pre\"] = df[\"Review\"].apply(clean_text)"
      ],
      "metadata": {
        "id": "a8uiTLhF_Y-j"
      },
      "execution_count": 13,
      "outputs": []
    },
    {
      "cell_type": "code",
      "source": [
        "df"
      ],
      "metadata": {
        "colab": {
          "base_uri": "https://localhost:8080/",
          "height": 423
        },
        "id": "L8onR8KJ_ytI",
        "outputId": "0eb1f84c-6ee9-4aa5-8e01-1809d7938afb"
      },
      "execution_count": 14,
      "outputs": [
        {
          "output_type": "execute_result",
          "data": {
            "text/plain": [
              "                                                Review  Liked  \\\n",
              "0                             Wow... Loved this place.      1   \n",
              "1                                   Crust is not good.      0   \n",
              "2            Not tasty and the texture was just nasty.      0   \n",
              "3    Stopped by during the late May bank holiday of...      1   \n",
              "4    The selection on the menu was great and so wer...      1   \n",
              "..                                                 ...    ...   \n",
              "995  I think food should have flavor and texture an...      0   \n",
              "996                           Appetite instantly gone.      0   \n",
              "997  Overall I was not impressed and would not go b...      0   \n",
              "998  The whole experience was underwhelming, and I ...      0   \n",
              "999  Then, as if I hadn't wasted enough of my life ...      0   \n",
              "\n",
              "                                                   pre  \n",
              "0                                 wow loved this place  \n",
              "1                                    crust is not good  \n",
              "2             not tasty and the texture was just nasty  \n",
              "3    stopped by during the late may bank holiday of...  \n",
              "4    the selection on the menu was great and so wer...  \n",
              "..                                                 ...  \n",
              "995  i think food should have flavor and texture an...  \n",
              "996                            appetite instantly gone  \n",
              "997  overall i was not impressed and would not go back  \n",
              "998  the whole experience was underwhelming and i t...  \n",
              "999  then as if i hadnt wasted enough of my life th...  \n",
              "\n",
              "[1000 rows x 3 columns]"
            ],
            "text/html": [
              "\n",
              "  <div id=\"df-8fb17c95-aad8-4687-92c7-f6a739e5f84c\" class=\"colab-df-container\">\n",
              "    <div>\n",
              "<style scoped>\n",
              "    .dataframe tbody tr th:only-of-type {\n",
              "        vertical-align: middle;\n",
              "    }\n",
              "\n",
              "    .dataframe tbody tr th {\n",
              "        vertical-align: top;\n",
              "    }\n",
              "\n",
              "    .dataframe thead th {\n",
              "        text-align: right;\n",
              "    }\n",
              "</style>\n",
              "<table border=\"1\" class=\"dataframe\">\n",
              "  <thead>\n",
              "    <tr style=\"text-align: right;\">\n",
              "      <th></th>\n",
              "      <th>Review</th>\n",
              "      <th>Liked</th>\n",
              "      <th>pre</th>\n",
              "    </tr>\n",
              "  </thead>\n",
              "  <tbody>\n",
              "    <tr>\n",
              "      <th>0</th>\n",
              "      <td>Wow... Loved this place.</td>\n",
              "      <td>1</td>\n",
              "      <td>wow loved this place</td>\n",
              "    </tr>\n",
              "    <tr>\n",
              "      <th>1</th>\n",
              "      <td>Crust is not good.</td>\n",
              "      <td>0</td>\n",
              "      <td>crust is not good</td>\n",
              "    </tr>\n",
              "    <tr>\n",
              "      <th>2</th>\n",
              "      <td>Not tasty and the texture was just nasty.</td>\n",
              "      <td>0</td>\n",
              "      <td>not tasty and the texture was just nasty</td>\n",
              "    </tr>\n",
              "    <tr>\n",
              "      <th>3</th>\n",
              "      <td>Stopped by during the late May bank holiday of...</td>\n",
              "      <td>1</td>\n",
              "      <td>stopped by during the late may bank holiday of...</td>\n",
              "    </tr>\n",
              "    <tr>\n",
              "      <th>4</th>\n",
              "      <td>The selection on the menu was great and so wer...</td>\n",
              "      <td>1</td>\n",
              "      <td>the selection on the menu was great and so wer...</td>\n",
              "    </tr>\n",
              "    <tr>\n",
              "      <th>...</th>\n",
              "      <td>...</td>\n",
              "      <td>...</td>\n",
              "      <td>...</td>\n",
              "    </tr>\n",
              "    <tr>\n",
              "      <th>995</th>\n",
              "      <td>I think food should have flavor and texture an...</td>\n",
              "      <td>0</td>\n",
              "      <td>i think food should have flavor and texture an...</td>\n",
              "    </tr>\n",
              "    <tr>\n",
              "      <th>996</th>\n",
              "      <td>Appetite instantly gone.</td>\n",
              "      <td>0</td>\n",
              "      <td>appetite instantly gone</td>\n",
              "    </tr>\n",
              "    <tr>\n",
              "      <th>997</th>\n",
              "      <td>Overall I was not impressed and would not go b...</td>\n",
              "      <td>0</td>\n",
              "      <td>overall i was not impressed and would not go back</td>\n",
              "    </tr>\n",
              "    <tr>\n",
              "      <th>998</th>\n",
              "      <td>The whole experience was underwhelming, and I ...</td>\n",
              "      <td>0</td>\n",
              "      <td>the whole experience was underwhelming and i t...</td>\n",
              "    </tr>\n",
              "    <tr>\n",
              "      <th>999</th>\n",
              "      <td>Then, as if I hadn't wasted enough of my life ...</td>\n",
              "      <td>0</td>\n",
              "      <td>then as if i hadnt wasted enough of my life th...</td>\n",
              "    </tr>\n",
              "  </tbody>\n",
              "</table>\n",
              "<p>1000 rows × 3 columns</p>\n",
              "</div>\n",
              "    <div class=\"colab-df-buttons\">\n",
              "\n",
              "  <div class=\"colab-df-container\">\n",
              "    <button class=\"colab-df-convert\" onclick=\"convertToInteractive('df-8fb17c95-aad8-4687-92c7-f6a739e5f84c')\"\n",
              "            title=\"Convert this dataframe to an interactive table.\"\n",
              "            style=\"display:none;\">\n",
              "\n",
              "  <svg xmlns=\"http://www.w3.org/2000/svg\" height=\"24px\" viewBox=\"0 -960 960 960\">\n",
              "    <path d=\"M120-120v-720h720v720H120Zm60-500h600v-160H180v160Zm220 220h160v-160H400v160Zm0 220h160v-160H400v160ZM180-400h160v-160H180v160Zm440 0h160v-160H620v160ZM180-180h160v-160H180v160Zm440 0h160v-160H620v160Z\"/>\n",
              "  </svg>\n",
              "    </button>\n",
              "\n",
              "  <style>\n",
              "    .colab-df-container {\n",
              "      display:flex;\n",
              "      gap: 12px;\n",
              "    }\n",
              "\n",
              "    .colab-df-convert {\n",
              "      background-color: #E8F0FE;\n",
              "      border: none;\n",
              "      border-radius: 50%;\n",
              "      cursor: pointer;\n",
              "      display: none;\n",
              "      fill: #1967D2;\n",
              "      height: 32px;\n",
              "      padding: 0 0 0 0;\n",
              "      width: 32px;\n",
              "    }\n",
              "\n",
              "    .colab-df-convert:hover {\n",
              "      background-color: #E2EBFA;\n",
              "      box-shadow: 0px 1px 2px rgba(60, 64, 67, 0.3), 0px 1px 3px 1px rgba(60, 64, 67, 0.15);\n",
              "      fill: #174EA6;\n",
              "    }\n",
              "\n",
              "    .colab-df-buttons div {\n",
              "      margin-bottom: 4px;\n",
              "    }\n",
              "\n",
              "    [theme=dark] .colab-df-convert {\n",
              "      background-color: #3B4455;\n",
              "      fill: #D2E3FC;\n",
              "    }\n",
              "\n",
              "    [theme=dark] .colab-df-convert:hover {\n",
              "      background-color: #434B5C;\n",
              "      box-shadow: 0px 1px 3px 1px rgba(0, 0, 0, 0.15);\n",
              "      filter: drop-shadow(0px 1px 2px rgba(0, 0, 0, 0.3));\n",
              "      fill: #FFFFFF;\n",
              "    }\n",
              "  </style>\n",
              "\n",
              "    <script>\n",
              "      const buttonEl =\n",
              "        document.querySelector('#df-8fb17c95-aad8-4687-92c7-f6a739e5f84c button.colab-df-convert');\n",
              "      buttonEl.style.display =\n",
              "        google.colab.kernel.accessAllowed ? 'block' : 'none';\n",
              "\n",
              "      async function convertToInteractive(key) {\n",
              "        const element = document.querySelector('#df-8fb17c95-aad8-4687-92c7-f6a739e5f84c');\n",
              "        const dataTable =\n",
              "          await google.colab.kernel.invokeFunction('convertToInteractive',\n",
              "                                                    [key], {});\n",
              "        if (!dataTable) return;\n",
              "\n",
              "        const docLinkHtml = 'Like what you see? Visit the ' +\n",
              "          '<a target=\"_blank\" href=https://colab.research.google.com/notebooks/data_table.ipynb>data table notebook</a>'\n",
              "          + ' to learn more about interactive tables.';\n",
              "        element.innerHTML = '';\n",
              "        dataTable['output_type'] = 'display_data';\n",
              "        await google.colab.output.renderOutput(dataTable, element);\n",
              "        const docLink = document.createElement('div');\n",
              "        docLink.innerHTML = docLinkHtml;\n",
              "        element.appendChild(docLink);\n",
              "      }\n",
              "    </script>\n",
              "  </div>\n",
              "\n",
              "\n",
              "<div id=\"df-26517979-cb68-424b-a123-e4d919ae3045\">\n",
              "  <button class=\"colab-df-quickchart\" onclick=\"quickchart('df-26517979-cb68-424b-a123-e4d919ae3045')\"\n",
              "            title=\"Suggest charts\"\n",
              "            style=\"display:none;\">\n",
              "\n",
              "<svg xmlns=\"http://www.w3.org/2000/svg\" height=\"24px\"viewBox=\"0 0 24 24\"\n",
              "     width=\"24px\">\n",
              "    <g>\n",
              "        <path d=\"M19 3H5c-1.1 0-2 .9-2 2v14c0 1.1.9 2 2 2h14c1.1 0 2-.9 2-2V5c0-1.1-.9-2-2-2zM9 17H7v-7h2v7zm4 0h-2V7h2v10zm4 0h-2v-4h2v4z\"/>\n",
              "    </g>\n",
              "</svg>\n",
              "  </button>\n",
              "\n",
              "<style>\n",
              "  .colab-df-quickchart {\n",
              "      --bg-color: #E8F0FE;\n",
              "      --fill-color: #1967D2;\n",
              "      --hover-bg-color: #E2EBFA;\n",
              "      --hover-fill-color: #174EA6;\n",
              "      --disabled-fill-color: #AAA;\n",
              "      --disabled-bg-color: #DDD;\n",
              "  }\n",
              "\n",
              "  [theme=dark] .colab-df-quickchart {\n",
              "      --bg-color: #3B4455;\n",
              "      --fill-color: #D2E3FC;\n",
              "      --hover-bg-color: #434B5C;\n",
              "      --hover-fill-color: #FFFFFF;\n",
              "      --disabled-bg-color: #3B4455;\n",
              "      --disabled-fill-color: #666;\n",
              "  }\n",
              "\n",
              "  .colab-df-quickchart {\n",
              "    background-color: var(--bg-color);\n",
              "    border: none;\n",
              "    border-radius: 50%;\n",
              "    cursor: pointer;\n",
              "    display: none;\n",
              "    fill: var(--fill-color);\n",
              "    height: 32px;\n",
              "    padding: 0;\n",
              "    width: 32px;\n",
              "  }\n",
              "\n",
              "  .colab-df-quickchart:hover {\n",
              "    background-color: var(--hover-bg-color);\n",
              "    box-shadow: 0 1px 2px rgba(60, 64, 67, 0.3), 0 1px 3px 1px rgba(60, 64, 67, 0.15);\n",
              "    fill: var(--button-hover-fill-color);\n",
              "  }\n",
              "\n",
              "  .colab-df-quickchart-complete:disabled,\n",
              "  .colab-df-quickchart-complete:disabled:hover {\n",
              "    background-color: var(--disabled-bg-color);\n",
              "    fill: var(--disabled-fill-color);\n",
              "    box-shadow: none;\n",
              "  }\n",
              "\n",
              "  .colab-df-spinner {\n",
              "    border: 2px solid var(--fill-color);\n",
              "    border-color: transparent;\n",
              "    border-bottom-color: var(--fill-color);\n",
              "    animation:\n",
              "      spin 1s steps(1) infinite;\n",
              "  }\n",
              "\n",
              "  @keyframes spin {\n",
              "    0% {\n",
              "      border-color: transparent;\n",
              "      border-bottom-color: var(--fill-color);\n",
              "      border-left-color: var(--fill-color);\n",
              "    }\n",
              "    20% {\n",
              "      border-color: transparent;\n",
              "      border-left-color: var(--fill-color);\n",
              "      border-top-color: var(--fill-color);\n",
              "    }\n",
              "    30% {\n",
              "      border-color: transparent;\n",
              "      border-left-color: var(--fill-color);\n",
              "      border-top-color: var(--fill-color);\n",
              "      border-right-color: var(--fill-color);\n",
              "    }\n",
              "    40% {\n",
              "      border-color: transparent;\n",
              "      border-right-color: var(--fill-color);\n",
              "      border-top-color: var(--fill-color);\n",
              "    }\n",
              "    60% {\n",
              "      border-color: transparent;\n",
              "      border-right-color: var(--fill-color);\n",
              "    }\n",
              "    80% {\n",
              "      border-color: transparent;\n",
              "      border-right-color: var(--fill-color);\n",
              "      border-bottom-color: var(--fill-color);\n",
              "    }\n",
              "    90% {\n",
              "      border-color: transparent;\n",
              "      border-bottom-color: var(--fill-color);\n",
              "    }\n",
              "  }\n",
              "</style>\n",
              "\n",
              "  <script>\n",
              "    async function quickchart(key) {\n",
              "      const quickchartButtonEl =\n",
              "        document.querySelector('#' + key + ' button');\n",
              "      quickchartButtonEl.disabled = true;  // To prevent multiple clicks.\n",
              "      quickchartButtonEl.classList.add('colab-df-spinner');\n",
              "      try {\n",
              "        const charts = await google.colab.kernel.invokeFunction(\n",
              "            'suggestCharts', [key], {});\n",
              "      } catch (error) {\n",
              "        console.error('Error during call to suggestCharts:', error);\n",
              "      }\n",
              "      quickchartButtonEl.classList.remove('colab-df-spinner');\n",
              "      quickchartButtonEl.classList.add('colab-df-quickchart-complete');\n",
              "    }\n",
              "    (() => {\n",
              "      let quickchartButtonEl =\n",
              "        document.querySelector('#df-26517979-cb68-424b-a123-e4d919ae3045 button');\n",
              "      quickchartButtonEl.style.display =\n",
              "        google.colab.kernel.accessAllowed ? 'block' : 'none';\n",
              "    })();\n",
              "  </script>\n",
              "</div>\n",
              "\n",
              "  <div id=\"id_aae203d3-c495-4545-93d9-0bd09955de35\">\n",
              "    <style>\n",
              "      .colab-df-generate {\n",
              "        background-color: #E8F0FE;\n",
              "        border: none;\n",
              "        border-radius: 50%;\n",
              "        cursor: pointer;\n",
              "        display: none;\n",
              "        fill: #1967D2;\n",
              "        height: 32px;\n",
              "        padding: 0 0 0 0;\n",
              "        width: 32px;\n",
              "      }\n",
              "\n",
              "      .colab-df-generate:hover {\n",
              "        background-color: #E2EBFA;\n",
              "        box-shadow: 0px 1px 2px rgba(60, 64, 67, 0.3), 0px 1px 3px 1px rgba(60, 64, 67, 0.15);\n",
              "        fill: #174EA6;\n",
              "      }\n",
              "\n",
              "      [theme=dark] .colab-df-generate {\n",
              "        background-color: #3B4455;\n",
              "        fill: #D2E3FC;\n",
              "      }\n",
              "\n",
              "      [theme=dark] .colab-df-generate:hover {\n",
              "        background-color: #434B5C;\n",
              "        box-shadow: 0px 1px 3px 1px rgba(0, 0, 0, 0.15);\n",
              "        filter: drop-shadow(0px 1px 2px rgba(0, 0, 0, 0.3));\n",
              "        fill: #FFFFFF;\n",
              "      }\n",
              "    </style>\n",
              "    <button class=\"colab-df-generate\" onclick=\"generateWithVariable('df')\"\n",
              "            title=\"Generate code using this dataframe.\"\n",
              "            style=\"display:none;\">\n",
              "\n",
              "  <svg xmlns=\"http://www.w3.org/2000/svg\" height=\"24px\"viewBox=\"0 0 24 24\"\n",
              "       width=\"24px\">\n",
              "    <path d=\"M7,19H8.4L18.45,9,17,7.55,7,17.6ZM5,21V16.75L18.45,3.32a2,2,0,0,1,2.83,0l1.4,1.43a1.91,1.91,0,0,1,.58,1.4,1.91,1.91,0,0,1-.58,1.4L9.25,21ZM18.45,9,17,7.55Zm-12,3A5.31,5.31,0,0,0,4.9,8.1,5.31,5.31,0,0,0,1,6.5,5.31,5.31,0,0,0,4.9,4.9,5.31,5.31,0,0,0,6.5,1,5.31,5.31,0,0,0,8.1,4.9,5.31,5.31,0,0,0,12,6.5,5.46,5.46,0,0,0,6.5,12Z\"/>\n",
              "  </svg>\n",
              "    </button>\n",
              "    <script>\n",
              "      (() => {\n",
              "      const buttonEl =\n",
              "        document.querySelector('#id_aae203d3-c495-4545-93d9-0bd09955de35 button.colab-df-generate');\n",
              "      buttonEl.style.display =\n",
              "        google.colab.kernel.accessAllowed ? 'block' : 'none';\n",
              "\n",
              "      buttonEl.onclick = () => {\n",
              "        google.colab.notebook.generateWithVariable('df');\n",
              "      }\n",
              "      })();\n",
              "    </script>\n",
              "  </div>\n",
              "\n",
              "    </div>\n",
              "  </div>\n"
            ],
            "application/vnd.google.colaboratory.intrinsic+json": {
              "type": "dataframe",
              "variable_name": "df",
              "summary": "{\n  \"name\": \"df\",\n  \"rows\": 1000,\n  \"fields\": [\n    {\n      \"column\": \"Review\",\n      \"properties\": {\n        \"dtype\": \"string\",\n        \"num_unique_values\": 996,\n        \"samples\": [\n          \"They were excellent.\",\n          \"Your servers suck, wait, correction, our server Heimer sucked.\",\n          \"Will be back again!\"\n        ],\n        \"semantic_type\": \"\",\n        \"description\": \"\"\n      }\n    },\n    {\n      \"column\": \"Liked\",\n      \"properties\": {\n        \"dtype\": \"number\",\n        \"std\": 0,\n        \"min\": 0,\n        \"max\": 1,\n        \"num_unique_values\": 2,\n        \"samples\": [\n          0,\n          1\n        ],\n        \"semantic_type\": \"\",\n        \"description\": \"\"\n      }\n    },\n    {\n      \"column\": \"pre\",\n      \"properties\": {\n        \"dtype\": \"string\",\n        \"num_unique_values\": 995,\n        \"samples\": [\n          \"i could barely stomach the meal but didnt complain because it was a business lunch\",\n          \"similarly the delivery man did not say a word of apology when our food was  minutes late\"\n        ],\n        \"semantic_type\": \"\",\n        \"description\": \"\"\n      }\n    }\n  ]\n}"
            }
          },
          "metadata": {},
          "execution_count": 14
        }
      ]
    },
    {
      "cell_type": "markdown",
      "source": [
        "# Seperate X and Y(Liked)"
      ],
      "metadata": {
        "id": "A1lRRZUg__ae"
      }
    },
    {
      "cell_type": "code",
      "source": [
        "X = df[\"pre\"]\n",
        "Y = df[\"Liked\"]"
      ],
      "metadata": {
        "id": "0d0il7WY_4vs"
      },
      "execution_count": 16,
      "outputs": []
    },
    {
      "cell_type": "code",
      "source": [
        "X"
      ],
      "metadata": {
        "colab": {
          "base_uri": "https://localhost:8080/",
          "height": 458
        },
        "id": "lussqPEKAFbo",
        "outputId": "60eca989-0cd4-4c96-eee9-e6927417edae"
      },
      "execution_count": 18,
      "outputs": [
        {
          "output_type": "execute_result",
          "data": {
            "text/plain": [
              "0                                   wow loved this place\n",
              "1                                      crust is not good\n",
              "2               not tasty and the texture was just nasty\n",
              "3      stopped by during the late may bank holiday of...\n",
              "4      the selection on the menu was great and so wer...\n",
              "                             ...                        \n",
              "995    i think food should have flavor and texture an...\n",
              "996                              appetite instantly gone\n",
              "997    overall i was not impressed and would not go back\n",
              "998    the whole experience was underwhelming and i t...\n",
              "999    then as if i hadnt wasted enough of my life th...\n",
              "Name: pre, Length: 1000, dtype: object"
            ],
            "text/html": [
              "<div>\n",
              "<style scoped>\n",
              "    .dataframe tbody tr th:only-of-type {\n",
              "        vertical-align: middle;\n",
              "    }\n",
              "\n",
              "    .dataframe tbody tr th {\n",
              "        vertical-align: top;\n",
              "    }\n",
              "\n",
              "    .dataframe thead th {\n",
              "        text-align: right;\n",
              "    }\n",
              "</style>\n",
              "<table border=\"1\" class=\"dataframe\">\n",
              "  <thead>\n",
              "    <tr style=\"text-align: right;\">\n",
              "      <th></th>\n",
              "      <th>pre</th>\n",
              "    </tr>\n",
              "  </thead>\n",
              "  <tbody>\n",
              "    <tr>\n",
              "      <th>0</th>\n",
              "      <td>wow loved this place</td>\n",
              "    </tr>\n",
              "    <tr>\n",
              "      <th>1</th>\n",
              "      <td>crust is not good</td>\n",
              "    </tr>\n",
              "    <tr>\n",
              "      <th>2</th>\n",
              "      <td>not tasty and the texture was just nasty</td>\n",
              "    </tr>\n",
              "    <tr>\n",
              "      <th>3</th>\n",
              "      <td>stopped by during the late may bank holiday of...</td>\n",
              "    </tr>\n",
              "    <tr>\n",
              "      <th>4</th>\n",
              "      <td>the selection on the menu was great and so wer...</td>\n",
              "    </tr>\n",
              "    <tr>\n",
              "      <th>...</th>\n",
              "      <td>...</td>\n",
              "    </tr>\n",
              "    <tr>\n",
              "      <th>995</th>\n",
              "      <td>i think food should have flavor and texture an...</td>\n",
              "    </tr>\n",
              "    <tr>\n",
              "      <th>996</th>\n",
              "      <td>appetite instantly gone</td>\n",
              "    </tr>\n",
              "    <tr>\n",
              "      <th>997</th>\n",
              "      <td>overall i was not impressed and would not go back</td>\n",
              "    </tr>\n",
              "    <tr>\n",
              "      <th>998</th>\n",
              "      <td>the whole experience was underwhelming and i t...</td>\n",
              "    </tr>\n",
              "    <tr>\n",
              "      <th>999</th>\n",
              "      <td>then as if i hadnt wasted enough of my life th...</td>\n",
              "    </tr>\n",
              "  </tbody>\n",
              "</table>\n",
              "<p>1000 rows × 1 columns</p>\n",
              "</div><br><label><b>dtype:</b> object</label>"
            ]
          },
          "metadata": {},
          "execution_count": 18
        }
      ]
    },
    {
      "cell_type": "code",
      "source": [
        "Y"
      ],
      "metadata": {
        "colab": {
          "base_uri": "https://localhost:8080/",
          "height": 458
        },
        "id": "2ItEEUxlAGgD",
        "outputId": "f8da754d-1cdc-4342-f0dd-fda652c1b2b1"
      },
      "execution_count": 19,
      "outputs": [
        {
          "output_type": "execute_result",
          "data": {
            "text/plain": [
              "0      1\n",
              "1      0\n",
              "2      0\n",
              "3      1\n",
              "4      1\n",
              "      ..\n",
              "995    0\n",
              "996    0\n",
              "997    0\n",
              "998    0\n",
              "999    0\n",
              "Name: Liked, Length: 1000, dtype: int64"
            ],
            "text/html": [
              "<div>\n",
              "<style scoped>\n",
              "    .dataframe tbody tr th:only-of-type {\n",
              "        vertical-align: middle;\n",
              "    }\n",
              "\n",
              "    .dataframe tbody tr th {\n",
              "        vertical-align: top;\n",
              "    }\n",
              "\n",
              "    .dataframe thead th {\n",
              "        text-align: right;\n",
              "    }\n",
              "</style>\n",
              "<table border=\"1\" class=\"dataframe\">\n",
              "  <thead>\n",
              "    <tr style=\"text-align: right;\">\n",
              "      <th></th>\n",
              "      <th>Liked</th>\n",
              "    </tr>\n",
              "  </thead>\n",
              "  <tbody>\n",
              "    <tr>\n",
              "      <th>0</th>\n",
              "      <td>1</td>\n",
              "    </tr>\n",
              "    <tr>\n",
              "      <th>1</th>\n",
              "      <td>0</td>\n",
              "    </tr>\n",
              "    <tr>\n",
              "      <th>2</th>\n",
              "      <td>0</td>\n",
              "    </tr>\n",
              "    <tr>\n",
              "      <th>3</th>\n",
              "      <td>1</td>\n",
              "    </tr>\n",
              "    <tr>\n",
              "      <th>4</th>\n",
              "      <td>1</td>\n",
              "    </tr>\n",
              "    <tr>\n",
              "      <th>...</th>\n",
              "      <td>...</td>\n",
              "    </tr>\n",
              "    <tr>\n",
              "      <th>995</th>\n",
              "      <td>0</td>\n",
              "    </tr>\n",
              "    <tr>\n",
              "      <th>996</th>\n",
              "      <td>0</td>\n",
              "    </tr>\n",
              "    <tr>\n",
              "      <th>997</th>\n",
              "      <td>0</td>\n",
              "    </tr>\n",
              "    <tr>\n",
              "      <th>998</th>\n",
              "      <td>0</td>\n",
              "    </tr>\n",
              "    <tr>\n",
              "      <th>999</th>\n",
              "      <td>0</td>\n",
              "    </tr>\n",
              "  </tbody>\n",
              "</table>\n",
              "<p>1000 rows × 1 columns</p>\n",
              "</div><br><label><b>dtype:</b> int64</label>"
            ]
          },
          "metadata": {},
          "execution_count": 19
        }
      ]
    },
    {
      "cell_type": "code",
      "source": [
        "Y.value_counts()"
      ],
      "metadata": {
        "colab": {
          "base_uri": "https://localhost:8080/",
          "height": 178
        },
        "id": "giNKImhbAKq6",
        "outputId": "bb47ccdd-3858-4648-9022-8d67cde10d8e"
      },
      "execution_count": 20,
      "outputs": [
        {
          "output_type": "execute_result",
          "data": {
            "text/plain": [
              "Liked\n",
              "1    500\n",
              "0    500\n",
              "Name: count, dtype: int64"
            ],
            "text/html": [
              "<div>\n",
              "<style scoped>\n",
              "    .dataframe tbody tr th:only-of-type {\n",
              "        vertical-align: middle;\n",
              "    }\n",
              "\n",
              "    .dataframe tbody tr th {\n",
              "        vertical-align: top;\n",
              "    }\n",
              "\n",
              "    .dataframe thead th {\n",
              "        text-align: right;\n",
              "    }\n",
              "</style>\n",
              "<table border=\"1\" class=\"dataframe\">\n",
              "  <thead>\n",
              "    <tr style=\"text-align: right;\">\n",
              "      <th></th>\n",
              "      <th>count</th>\n",
              "    </tr>\n",
              "    <tr>\n",
              "      <th>Liked</th>\n",
              "      <th></th>\n",
              "    </tr>\n",
              "  </thead>\n",
              "  <tbody>\n",
              "    <tr>\n",
              "      <th>1</th>\n",
              "      <td>500</td>\n",
              "    </tr>\n",
              "    <tr>\n",
              "      <th>0</th>\n",
              "      <td>500</td>\n",
              "    </tr>\n",
              "  </tbody>\n",
              "</table>\n",
              "</div><br><label><b>dtype:</b> int64</label>"
            ]
          },
          "metadata": {},
          "execution_count": 20
        }
      ]
    },
    {
      "cell_type": "markdown",
      "source": [
        "# Apply TFIDF on Text data"
      ],
      "metadata": {
        "id": "6PCXTUG5Aa2e"
      }
    },
    {
      "cell_type": "markdown",
      "source": [
        "![image.png](data:image/png;base64,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)"
      ],
      "metadata": {
        "id": "hvBxTSJ1AeTp"
      }
    },
    {
      "cell_type": "code",
      "source": [
        "from sklearn.feature_extraction.text import TfidfVectorizer"
      ],
      "metadata": {
        "id": "tm4q62M9AOXN"
      },
      "execution_count": 21,
      "outputs": []
    },
    {
      "cell_type": "code",
      "source": [
        "tfidf = TfidfVectorizer()\n",
        "\n",
        "X_pre = tfidf.fit_transform(X).toarray()\n",
        "\n",
        "X_pre"
      ],
      "metadata": {
        "colab": {
          "base_uri": "https://localhost:8080/"
        },
        "id": "iJ4cPmWiAkl7",
        "outputId": "80b0beae-d004-4a1d-e297-aa16a859d7ae"
      },
      "execution_count": 22,
      "outputs": [
        {
          "output_type": "execute_result",
          "data": {
            "text/plain": [
              "array([[0., 0., 0., ..., 0., 0., 0.],\n",
              "       [0., 0., 0., ..., 0., 0., 0.],\n",
              "       [0., 0., 0., ..., 0., 0., 0.],\n",
              "       ...,\n",
              "       [0., 0., 0., ..., 0., 0., 0.],\n",
              "       [0., 0., 0., ..., 0., 0., 0.],\n",
              "       [0., 0., 0., ..., 0., 0., 0.]])"
            ]
          },
          "metadata": {},
          "execution_count": 22
        }
      ]
    },
    {
      "cell_type": "code",
      "source": [
        "X_pre.shape"
      ],
      "metadata": {
        "colab": {
          "base_uri": "https://localhost:8080/"
        },
        "id": "E_-xdcHoAuH9",
        "outputId": "9eb648c2-0850-429e-f77e-af43d3b7447a"
      },
      "execution_count": 23,
      "outputs": [
        {
          "output_type": "execute_result",
          "data": {
            "text/plain": [
              "(1000, 2046)"
            ]
          },
          "metadata": {},
          "execution_count": 23
        }
      ]
    },
    {
      "cell_type": "markdown",
      "source": [
        "# Apply train test split on X_pre"
      ],
      "metadata": {
        "id": "cXKhwQzFA1OW"
      }
    },
    {
      "cell_type": "code",
      "source": [
        "from sklearn.model_selection import train_test_split"
      ],
      "metadata": {
        "id": "nN1yErecAxQc"
      },
      "execution_count": 24,
      "outputs": []
    },
    {
      "cell_type": "code",
      "source": [
        "xtrain, xtest, ytrain, ytest = train_test_split(X_pre, Y, test_size=0.2, random_state=42)\n",
        ""
      ],
      "metadata": {
        "id": "c8EnbDNYBAC5"
      },
      "execution_count": 25,
      "outputs": []
    },
    {
      "cell_type": "code",
      "source": [
        "xtrain.shape"
      ],
      "metadata": {
        "colab": {
          "base_uri": "https://localhost:8080/"
        },
        "id": "hRVmVfAZBDbm",
        "outputId": "6e487aa8-9f15-4fe6-b8d4-321761196260"
      },
      "execution_count": 26,
      "outputs": [
        {
          "output_type": "execute_result",
          "data": {
            "text/plain": [
              "(800, 2046)"
            ]
          },
          "metadata": {},
          "execution_count": 26
        }
      ]
    },
    {
      "cell_type": "code",
      "source": [
        "xtest.shape"
      ],
      "metadata": {
        "colab": {
          "base_uri": "https://localhost:8080/"
        },
        "id": "3C1cggjlBIXF",
        "outputId": "113412e1-8d9f-4159-aed8-e15e201beed1"
      },
      "execution_count": 27,
      "outputs": [
        {
          "output_type": "execute_result",
          "data": {
            "text/plain": [
              "(200, 2046)"
            ]
          },
          "metadata": {},
          "execution_count": 27
        }
      ]
    },
    {
      "cell_type": "code",
      "source": [
        "xtrain.shape[1]"
      ],
      "metadata": {
        "colab": {
          "base_uri": "https://localhost:8080/"
        },
        "id": "oMkWM7ApBMFx",
        "outputId": "96300444-256b-46a1-8ab0-0e63ecfedfc4"
      },
      "execution_count": 28,
      "outputs": [
        {
          "output_type": "execute_result",
          "data": {
            "text/plain": [
              "2046"
            ]
          },
          "metadata": {},
          "execution_count": 28
        }
      ]
    },
    {
      "cell_type": "markdown",
      "source": [
        "# Build a neural network"
      ],
      "metadata": {
        "id": "IEveuNpdBQ43"
      }
    },
    {
      "cell_type": "code",
      "source": [
        "from keras.models import Sequential\n",
        "from keras.layers import Input, Dense, Dropout\n",
        "from keras.callbacks import EarlyStopping"
      ],
      "metadata": {
        "id": "zZYJ06_XBOcs"
      },
      "execution_count": 29,
      "outputs": []
    },
    {
      "cell_type": "code",
      "source": [
        "# Intialize the model\n",
        "model = Sequential()\n",
        "\n",
        "# Add a input layer\n",
        "model.add(Input(shape=(xtrain.shape[1],)))\n",
        "\n",
        "# Add Hidden layer 1\n",
        "model.add(Dense(units=64, activation=\"relu\"))\n",
        "\n",
        "# Add dropout layer\n",
        "model.add(Dropout(rate=0.3))\n",
        "\n",
        "# Add Hidden Layer 2\n",
        "model.add(Dense(units=32, activation = \"relu\"))\n",
        "\n",
        "# Add droput layer\n",
        "model.add(Dropout(rate=0.2))\n",
        "\n",
        "# Output layer\n",
        "model.add(Dense(units=1, activation=\"sigmoid\"))\n",
        "\n"
      ],
      "metadata": {
        "id": "cBjFQBnfBWmf"
      },
      "execution_count": 30,
      "outputs": []
    },
    {
      "cell_type": "code",
      "source": [
        "model.summary()"
      ],
      "metadata": {
        "colab": {
          "base_uri": "https://localhost:8080/",
          "height": 289
        },
        "id": "LLvAcvpHBexH",
        "outputId": "bad525bf-799c-48f4-f890-509823a300ae"
      },
      "execution_count": 31,
      "outputs": [
        {
          "output_type": "display_data",
          "data": {
            "text/plain": [
              "\u001b[1mModel: \"sequential\"\u001b[0m\n"
            ],
            "text/html": [
              "<pre style=\"white-space:pre;overflow-x:auto;line-height:normal;font-family:Menlo,'DejaVu Sans Mono',consolas,'Courier New',monospace\"><span style=\"font-weight: bold\">Model: \"sequential\"</span>\n",
              "</pre>\n"
            ]
          },
          "metadata": {}
        },
        {
          "output_type": "display_data",
          "data": {
            "text/plain": [
              "┏━━━━━━━━━━━━━━━━━━━━━━━━━━━━━━━━━━━━━━┳━━━━━━━━━━━━━━━━━━━━━━━━━━━━━┳━━━━━━━━━━━━━━━━━┓\n",
              "┃\u001b[1m \u001b[0m\u001b[1mLayer (type)                        \u001b[0m\u001b[1m \u001b[0m┃\u001b[1m \u001b[0m\u001b[1mOutput Shape               \u001b[0m\u001b[1m \u001b[0m┃\u001b[1m \u001b[0m\u001b[1m        Param #\u001b[0m\u001b[1m \u001b[0m┃\n",
              "┡━━━━━━━━━━━━━━━━━━━━━━━━━━━━━━━━━━━━━━╇━━━━━━━━━━━━━━━━━━━━━━━━━━━━━╇━━━━━━━━━━━━━━━━━┩\n",
              "│ dense (\u001b[38;5;33mDense\u001b[0m)                        │ (\u001b[38;5;45mNone\u001b[0m, \u001b[38;5;34m64\u001b[0m)                  │         \u001b[38;5;34m131,008\u001b[0m │\n",
              "├──────────────────────────────────────┼─────────────────────────────┼─────────────────┤\n",
              "│ dropout (\u001b[38;5;33mDropout\u001b[0m)                    │ (\u001b[38;5;45mNone\u001b[0m, \u001b[38;5;34m64\u001b[0m)                  │               \u001b[38;5;34m0\u001b[0m │\n",
              "├──────────────────────────────────────┼─────────────────────────────┼─────────────────┤\n",
              "│ dense_1 (\u001b[38;5;33mDense\u001b[0m)                      │ (\u001b[38;5;45mNone\u001b[0m, \u001b[38;5;34m32\u001b[0m)                  │           \u001b[38;5;34m2,080\u001b[0m │\n",
              "├──────────────────────────────────────┼─────────────────────────────┼─────────────────┤\n",
              "│ dropout_1 (\u001b[38;5;33mDropout\u001b[0m)                  │ (\u001b[38;5;45mNone\u001b[0m, \u001b[38;5;34m32\u001b[0m)                  │               \u001b[38;5;34m0\u001b[0m │\n",
              "├──────────────────────────────────────┼─────────────────────────────┼─────────────────┤\n",
              "│ dense_2 (\u001b[38;5;33mDense\u001b[0m)                      │ (\u001b[38;5;45mNone\u001b[0m, \u001b[38;5;34m1\u001b[0m)                   │              \u001b[38;5;34m33\u001b[0m │\n",
              "└──────────────────────────────────────┴─────────────────────────────┴─────────────────┘\n"
            ],
            "text/html": [
              "<pre style=\"white-space:pre;overflow-x:auto;line-height:normal;font-family:Menlo,'DejaVu Sans Mono',consolas,'Courier New',monospace\">┏━━━━━━━━━━━━━━━━━━━━━━━━━━━━━━━━━━━━━━┳━━━━━━━━━━━━━━━━━━━━━━━━━━━━━┳━━━━━━━━━━━━━━━━━┓\n",
              "┃<span style=\"font-weight: bold\"> Layer (type)                         </span>┃<span style=\"font-weight: bold\"> Output Shape                </span>┃<span style=\"font-weight: bold\">         Param # </span>┃\n",
              "┡━━━━━━━━━━━━━━━━━━━━━━━━━━━━━━━━━━━━━━╇━━━━━━━━━━━━━━━━━━━━━━━━━━━━━╇━━━━━━━━━━━━━━━━━┩\n",
              "│ dense (<span style=\"color: #0087ff; text-decoration-color: #0087ff\">Dense</span>)                        │ (<span style=\"color: #00d7ff; text-decoration-color: #00d7ff\">None</span>, <span style=\"color: #00af00; text-decoration-color: #00af00\">64</span>)                  │         <span style=\"color: #00af00; text-decoration-color: #00af00\">131,008</span> │\n",
              "├──────────────────────────────────────┼─────────────────────────────┼─────────────────┤\n",
              "│ dropout (<span style=\"color: #0087ff; text-decoration-color: #0087ff\">Dropout</span>)                    │ (<span style=\"color: #00d7ff; text-decoration-color: #00d7ff\">None</span>, <span style=\"color: #00af00; text-decoration-color: #00af00\">64</span>)                  │               <span style=\"color: #00af00; text-decoration-color: #00af00\">0</span> │\n",
              "├──────────────────────────────────────┼─────────────────────────────┼─────────────────┤\n",
              "│ dense_1 (<span style=\"color: #0087ff; text-decoration-color: #0087ff\">Dense</span>)                      │ (<span style=\"color: #00d7ff; text-decoration-color: #00d7ff\">None</span>, <span style=\"color: #00af00; text-decoration-color: #00af00\">32</span>)                  │           <span style=\"color: #00af00; text-decoration-color: #00af00\">2,080</span> │\n",
              "├──────────────────────────────────────┼─────────────────────────────┼─────────────────┤\n",
              "│ dropout_1 (<span style=\"color: #0087ff; text-decoration-color: #0087ff\">Dropout</span>)                  │ (<span style=\"color: #00d7ff; text-decoration-color: #00d7ff\">None</span>, <span style=\"color: #00af00; text-decoration-color: #00af00\">32</span>)                  │               <span style=\"color: #00af00; text-decoration-color: #00af00\">0</span> │\n",
              "├──────────────────────────────────────┼─────────────────────────────┼─────────────────┤\n",
              "│ dense_2 (<span style=\"color: #0087ff; text-decoration-color: #0087ff\">Dense</span>)                      │ (<span style=\"color: #00d7ff; text-decoration-color: #00d7ff\">None</span>, <span style=\"color: #00af00; text-decoration-color: #00af00\">1</span>)                   │              <span style=\"color: #00af00; text-decoration-color: #00af00\">33</span> │\n",
              "└──────────────────────────────────────┴─────────────────────────────┴─────────────────┘\n",
              "</pre>\n"
            ]
          },
          "metadata": {}
        },
        {
          "output_type": "display_data",
          "data": {
            "text/plain": [
              "\u001b[1m Total params: \u001b[0m\u001b[38;5;34m133,121\u001b[0m (520.00 KB)\n"
            ],
            "text/html": [
              "<pre style=\"white-space:pre;overflow-x:auto;line-height:normal;font-family:Menlo,'DejaVu Sans Mono',consolas,'Courier New',monospace\"><span style=\"font-weight: bold\"> Total params: </span><span style=\"color: #00af00; text-decoration-color: #00af00\">133,121</span> (520.00 KB)\n",
              "</pre>\n"
            ]
          },
          "metadata": {}
        },
        {
          "output_type": "display_data",
          "data": {
            "text/plain": [
              "\u001b[1m Trainable params: \u001b[0m\u001b[38;5;34m133,121\u001b[0m (520.00 KB)\n"
            ],
            "text/html": [
              "<pre style=\"white-space:pre;overflow-x:auto;line-height:normal;font-family:Menlo,'DejaVu Sans Mono',consolas,'Courier New',monospace\"><span style=\"font-weight: bold\"> Trainable params: </span><span style=\"color: #00af00; text-decoration-color: #00af00\">133,121</span> (520.00 KB)\n",
              "</pre>\n"
            ]
          },
          "metadata": {}
        },
        {
          "output_type": "display_data",
          "data": {
            "text/plain": [
              "\u001b[1m Non-trainable params: \u001b[0m\u001b[38;5;34m0\u001b[0m (0.00 B)\n"
            ],
            "text/html": [
              "<pre style=\"white-space:pre;overflow-x:auto;line-height:normal;font-family:Menlo,'DejaVu Sans Mono',consolas,'Courier New',monospace\"><span style=\"font-weight: bold\"> Non-trainable params: </span><span style=\"color: #00af00; text-decoration-color: #00af00\">0</span> (0.00 B)\n",
              "</pre>\n"
            ]
          },
          "metadata": {}
        }
      ]
    },
    {
      "cell_type": "code",
      "source": [
        "model.compile(loss=\"binary_crossentropy\", optimizer=\"adam\", metrics=[\"accuracy\"])\n",
        ""
      ],
      "metadata": {
        "id": "Xk8bLDM4Bg48"
      },
      "execution_count": 32,
      "outputs": []
    },
    {
      "cell_type": "code",
      "source": [
        "es = EarlyStopping(monitor = \"val_loss\", patience=15)"
      ],
      "metadata": {
        "id": "jTh7YaWVBmPk"
      },
      "execution_count": 33,
      "outputs": []
    },
    {
      "cell_type": "code",
      "source": [
        "hist = model.fit(xtrain, ytrain, validation_split=0.1, epochs=200, callbacks=[es])"
      ],
      "metadata": {
        "colab": {
          "base_uri": "https://localhost:8080/"
        },
        "id": "7RVH_XIPB48O",
        "outputId": "96a5535b-c65d-4d91-c05e-8e101dcc6ff7"
      },
      "execution_count": 34,
      "outputs": [
        {
          "output_type": "stream",
          "name": "stdout",
          "text": [
            "Epoch 1/200\n",
            "\u001b[1m23/23\u001b[0m \u001b[32m━━━━━━━━━━━━━━━━━━━━\u001b[0m\u001b[37m\u001b[0m \u001b[1m7s\u001b[0m 103ms/step - accuracy: 0.5254 - loss: 0.6910 - val_accuracy: 0.4500 - val_loss: 0.6921\n",
            "Epoch 2/200\n",
            "\u001b[1m23/23\u001b[0m \u001b[32m━━━━━━━━━━━━━━━━━━━━\u001b[0m\u001b[37m\u001b[0m \u001b[1m0s\u001b[0m 3ms/step - accuracy: 0.5956 - loss: 0.6771 - val_accuracy: 0.4875 - val_loss: 0.6839\n",
            "Epoch 3/200\n",
            "\u001b[1m23/23\u001b[0m \u001b[32m━━━━━━━━━━━━━━━━━━━━\u001b[0m\u001b[37m\u001b[0m \u001b[1m0s\u001b[0m 3ms/step - accuracy: 0.7007 - loss: 0.6432 - val_accuracy: 0.6375 - val_loss: 0.6557\n",
            "Epoch 4/200\n",
            "\u001b[1m23/23\u001b[0m \u001b[32m━━━━━━━━━━━━━━━━━━━━\u001b[0m\u001b[37m\u001b[0m \u001b[1m0s\u001b[0m 3ms/step - accuracy: 0.8344 - loss: 0.5723 - val_accuracy: 0.7250 - val_loss: 0.6003\n",
            "Epoch 5/200\n",
            "\u001b[1m23/23\u001b[0m \u001b[32m━━━━━━━━━━━━━━━━━━━━\u001b[0m\u001b[37m\u001b[0m \u001b[1m0s\u001b[0m 3ms/step - accuracy: 0.9051 - loss: 0.4454 - val_accuracy: 0.7875 - val_loss: 0.5198\n",
            "Epoch 6/200\n",
            "\u001b[1m23/23\u001b[0m \u001b[32m━━━━━━━━━━━━━━━━━━━━\u001b[0m\u001b[37m\u001b[0m \u001b[1m0s\u001b[0m 3ms/step - accuracy: 0.9661 - loss: 0.3111 - val_accuracy: 0.8500 - val_loss: 0.4385\n",
            "Epoch 7/200\n",
            "\u001b[1m23/23\u001b[0m \u001b[32m━━━━━━━━━━━━━━━━━━━━\u001b[0m\u001b[37m\u001b[0m \u001b[1m0s\u001b[0m 3ms/step - accuracy: 0.9922 - loss: 0.1794 - val_accuracy: 0.8500 - val_loss: 0.3859\n",
            "Epoch 8/200\n",
            "\u001b[1m23/23\u001b[0m \u001b[32m━━━━━━━━━━━━━━━━━━━━\u001b[0m\u001b[37m\u001b[0m \u001b[1m0s\u001b[0m 3ms/step - accuracy: 0.9826 - loss: 0.1091 - val_accuracy: 0.8625 - val_loss: 0.3647\n",
            "Epoch 9/200\n",
            "\u001b[1m23/23\u001b[0m \u001b[32m━━━━━━━━━━━━━━━━━━━━\u001b[0m\u001b[37m\u001b[0m \u001b[1m0s\u001b[0m 4ms/step - accuracy: 0.9945 - loss: 0.0742 - val_accuracy: 0.8375 - val_loss: 0.3644\n",
            "Epoch 10/200\n",
            "\u001b[1m23/23\u001b[0m \u001b[32m━━━━━━━━━━━━━━━━━━━━\u001b[0m\u001b[37m\u001b[0m \u001b[1m0s\u001b[0m 3ms/step - accuracy: 0.9976 - loss: 0.0513 - val_accuracy: 0.8750 - val_loss: 0.3555\n",
            "Epoch 11/200\n",
            "\u001b[1m23/23\u001b[0m \u001b[32m━━━━━━━━━━━━━━━━━━━━\u001b[0m\u001b[37m\u001b[0m \u001b[1m0s\u001b[0m 3ms/step - accuracy: 0.9994 - loss: 0.0350 - val_accuracy: 0.8500 - val_loss: 0.3619\n",
            "Epoch 12/200\n",
            "\u001b[1m23/23\u001b[0m \u001b[32m━━━━━━━━━━━━━━━━━━━━\u001b[0m\u001b[37m\u001b[0m \u001b[1m0s\u001b[0m 3ms/step - accuracy: 1.0000 - loss: 0.0248 - val_accuracy: 0.8250 - val_loss: 0.3704\n",
            "Epoch 13/200\n",
            "\u001b[1m23/23\u001b[0m \u001b[32m━━━━━━━━━━━━━━━━━━━━\u001b[0m\u001b[37m\u001b[0m \u001b[1m0s\u001b[0m 3ms/step - accuracy: 0.9981 - loss: 0.0221 - val_accuracy: 0.8625 - val_loss: 0.3598\n",
            "Epoch 14/200\n",
            "\u001b[1m23/23\u001b[0m \u001b[32m━━━━━━━━━━━━━━━━━━━━\u001b[0m\u001b[37m\u001b[0m \u001b[1m0s\u001b[0m 3ms/step - accuracy: 1.0000 - loss: 0.0137 - val_accuracy: 0.8375 - val_loss: 0.3743\n",
            "Epoch 15/200\n",
            "\u001b[1m23/23\u001b[0m \u001b[32m━━━━━━━━━━━━━━━━━━━━\u001b[0m\u001b[37m\u001b[0m \u001b[1m0s\u001b[0m 3ms/step - accuracy: 1.0000 - loss: 0.0137 - val_accuracy: 0.8625 - val_loss: 0.3861\n",
            "Epoch 16/200\n",
            "\u001b[1m23/23\u001b[0m \u001b[32m━━━━━━━━━━━━━━━━━━━━\u001b[0m\u001b[37m\u001b[0m \u001b[1m0s\u001b[0m 3ms/step - accuracy: 0.9985 - loss: 0.0126 - val_accuracy: 0.8375 - val_loss: 0.3873\n",
            "Epoch 17/200\n",
            "\u001b[1m23/23\u001b[0m \u001b[32m━━━━━━━━━━━━━━━━━━━━\u001b[0m\u001b[37m\u001b[0m \u001b[1m0s\u001b[0m 3ms/step - accuracy: 1.0000 - loss: 0.0086 - val_accuracy: 0.8375 - val_loss: 0.3950\n",
            "Epoch 18/200\n",
            "\u001b[1m23/23\u001b[0m \u001b[32m━━━━━━━━━━━━━━━━━━━━\u001b[0m\u001b[37m\u001b[0m \u001b[1m0s\u001b[0m 3ms/step - accuracy: 1.0000 - loss: 0.0080 - val_accuracy: 0.8500 - val_loss: 0.3993\n",
            "Epoch 19/200\n",
            "\u001b[1m23/23\u001b[0m \u001b[32m━━━━━━━━━━━━━━━━━━━━\u001b[0m\u001b[37m\u001b[0m \u001b[1m0s\u001b[0m 3ms/step - accuracy: 1.0000 - loss: 0.0083 - val_accuracy: 0.8500 - val_loss: 0.4010\n",
            "Epoch 20/200\n",
            "\u001b[1m23/23\u001b[0m \u001b[32m━━━━━━━━━━━━━━━━━━━━\u001b[0m\u001b[37m\u001b[0m \u001b[1m0s\u001b[0m 3ms/step - accuracy: 1.0000 - loss: 0.0076 - val_accuracy: 0.8500 - val_loss: 0.4090\n",
            "Epoch 21/200\n",
            "\u001b[1m23/23\u001b[0m \u001b[32m━━━━━━━━━━━━━━━━━━━━\u001b[0m\u001b[37m\u001b[0m \u001b[1m0s\u001b[0m 3ms/step - accuracy: 1.0000 - loss: 0.0049 - val_accuracy: 0.8500 - val_loss: 0.4170\n",
            "Epoch 22/200\n",
            "\u001b[1m23/23\u001b[0m \u001b[32m━━━━━━━━━━━━━━━━━━━━\u001b[0m\u001b[37m\u001b[0m \u001b[1m0s\u001b[0m 3ms/step - accuracy: 1.0000 - loss: 0.0057 - val_accuracy: 0.8500 - val_loss: 0.4249\n",
            "Epoch 23/200\n",
            "\u001b[1m23/23\u001b[0m \u001b[32m━━━━━━━━━━━━━━━━━━━━\u001b[0m\u001b[37m\u001b[0m \u001b[1m0s\u001b[0m 4ms/step - accuracy: 1.0000 - loss: 0.0056 - val_accuracy: 0.8375 - val_loss: 0.4357\n",
            "Epoch 24/200\n",
            "\u001b[1m23/23\u001b[0m \u001b[32m━━━━━━━━━━━━━━━━━━━━\u001b[0m\u001b[37m\u001b[0m \u001b[1m0s\u001b[0m 4ms/step - accuracy: 1.0000 - loss: 0.0038 - val_accuracy: 0.8375 - val_loss: 0.4334\n",
            "Epoch 25/200\n",
            "\u001b[1m23/23\u001b[0m \u001b[32m━━━━━━━━━━━━━━━━━━━━\u001b[0m\u001b[37m\u001b[0m \u001b[1m0s\u001b[0m 3ms/step - accuracy: 1.0000 - loss: 0.0034 - val_accuracy: 0.8625 - val_loss: 0.4357\n"
          ]
        }
      ]
    },
    {
      "cell_type": "markdown",
      "source": [
        "# Evaluate the model"
      ],
      "metadata": {
        "id": "Hzn1OOLxCIXp"
      }
    },
    {
      "cell_type": "code",
      "source": [
        "model.evaluate(xtrain, ytrain)"
      ],
      "metadata": {
        "colab": {
          "base_uri": "https://localhost:8080/"
        },
        "id": "vDZ8Qs51CCTL",
        "outputId": "cb51e853-a162-4dce-e812-0ec02207ea21"
      },
      "execution_count": 35,
      "outputs": [
        {
          "output_type": "stream",
          "name": "stdout",
          "text": [
            "\u001b[1m25/25\u001b[0m \u001b[32m━━━━━━━━━━━━━━━━━━━━\u001b[0m\u001b[37m\u001b[0m \u001b[1m0s\u001b[0m 3ms/step - accuracy: 0.9987 - loss: 0.0056\n"
          ]
        },
        {
          "output_type": "execute_result",
          "data": {
            "text/plain": [
              "[0.044586654752492905, 0.9862499833106995]"
            ]
          },
          "metadata": {},
          "execution_count": 35
        }
      ]
    },
    {
      "cell_type": "code",
      "source": [
        "model.evaluate(xtest, ytest)"
      ],
      "metadata": {
        "colab": {
          "base_uri": "https://localhost:8080/"
        },
        "id": "cMeEnNuCCNC9",
        "outputId": "dc33c1a8-bd9a-4233-d114-d05629f55683"
      },
      "execution_count": 36,
      "outputs": [
        {
          "output_type": "stream",
          "name": "stdout",
          "text": [
            "\u001b[1m7/7\u001b[0m \u001b[32m━━━━━━━━━━━━━━━━━━━━\u001b[0m\u001b[37m\u001b[0m \u001b[1m1s\u001b[0m 89ms/step - accuracy: 0.7722 - loss: 0.7208\n"
          ]
        },
        {
          "output_type": "execute_result",
          "data": {
            "text/plain": [
              "[0.6912474632263184, 0.7850000262260437]"
            ]
          },
          "metadata": {},
          "execution_count": 36
        }
      ]
    },
    {
      "cell_type": "markdown",
      "source": [
        "# Predict the result on test data"
      ],
      "metadata": {
        "id": "E29JKNteCU6R"
      }
    },
    {
      "cell_type": "code",
      "source": [
        "yprob_test = model.predict(xtest)\n",
        "yprob_test[0:5]"
      ],
      "metadata": {
        "colab": {
          "base_uri": "https://localhost:8080/"
        },
        "id": "cdEjTgpBCQ71",
        "outputId": "40a9130b-1cf3-4283-8a57-ddee8cb79c4f"
      },
      "execution_count": 37,
      "outputs": [
        {
          "output_type": "stream",
          "name": "stdout",
          "text": [
            "\u001b[1m7/7\u001b[0m \u001b[32m━━━━━━━━━━━━━━━━━━━━\u001b[0m\u001b[37m\u001b[0m \u001b[1m0s\u001b[0m 39ms/step\n"
          ]
        },
        {
          "output_type": "execute_result",
          "data": {
            "text/plain": [
              "array([[0.39001298],\n",
              "       [0.99919885],\n",
              "       [0.9997403 ],\n",
              "       [0.99914205],\n",
              "       [0.9889255 ]], dtype=float32)"
            ]
          },
          "metadata": {},
          "execution_count": 37
        }
      ]
    },
    {
      "cell_type": "code",
      "source": [
        "def predict_sentiment(model, x):\n",
        "  yprob = model.predict(x)\n",
        "  ypred = [1 if prob >= 0.5 else 0 for prob in yprob]\n",
        "  return ypred"
      ],
      "metadata": {
        "id": "YSMyQGp4CelW"
      },
      "execution_count": 38,
      "outputs": []
    },
    {
      "cell_type": "code",
      "source": [
        "ypred_test = predict_sentiment(model, xtest)\n",
        "ypred_test[0:5]"
      ],
      "metadata": {
        "colab": {
          "base_uri": "https://localhost:8080/"
        },
        "id": "rnLyTjb_ClFg",
        "outputId": "723c12fc-c51c-420c-f30d-b065d02bb485"
      },
      "execution_count": 39,
      "outputs": [
        {
          "output_type": "stream",
          "name": "stdout",
          "text": [
            "\u001b[1m7/7\u001b[0m \u001b[32m━━━━━━━━━━━━━━━━━━━━\u001b[0m\u001b[37m\u001b[0m \u001b[1m0s\u001b[0m 4ms/step \n"
          ]
        },
        {
          "output_type": "execute_result",
          "data": {
            "text/plain": [
              "[0, 1, 1, 1, 1]"
            ]
          },
          "metadata": {},
          "execution_count": 39
        }
      ]
    },
    {
      "cell_type": "code",
      "source": [
        "ytest.head()"
      ],
      "metadata": {
        "colab": {
          "base_uri": "https://localhost:8080/",
          "height": 241
        },
        "id": "y2I5ka2OCoKG",
        "outputId": "c129c608-4b6d-4f41-f21c-699c093eb64f"
      },
      "execution_count": 40,
      "outputs": [
        {
          "output_type": "execute_result",
          "data": {
            "text/plain": [
              "521    1\n",
              "737    1\n",
              "740    1\n",
              "660    1\n",
              "411    1\n",
              "Name: Liked, dtype: int64"
            ],
            "text/html": [
              "<div>\n",
              "<style scoped>\n",
              "    .dataframe tbody tr th:only-of-type {\n",
              "        vertical-align: middle;\n",
              "    }\n",
              "\n",
              "    .dataframe tbody tr th {\n",
              "        vertical-align: top;\n",
              "    }\n",
              "\n",
              "    .dataframe thead th {\n",
              "        text-align: right;\n",
              "    }\n",
              "</style>\n",
              "<table border=\"1\" class=\"dataframe\">\n",
              "  <thead>\n",
              "    <tr style=\"text-align: right;\">\n",
              "      <th></th>\n",
              "      <th>Liked</th>\n",
              "    </tr>\n",
              "  </thead>\n",
              "  <tbody>\n",
              "    <tr>\n",
              "      <th>521</th>\n",
              "      <td>1</td>\n",
              "    </tr>\n",
              "    <tr>\n",
              "      <th>737</th>\n",
              "      <td>1</td>\n",
              "    </tr>\n",
              "    <tr>\n",
              "      <th>740</th>\n",
              "      <td>1</td>\n",
              "    </tr>\n",
              "    <tr>\n",
              "      <th>660</th>\n",
              "      <td>1</td>\n",
              "    </tr>\n",
              "    <tr>\n",
              "      <th>411</th>\n",
              "      <td>1</td>\n",
              "    </tr>\n",
              "  </tbody>\n",
              "</table>\n",
              "</div><br><label><b>dtype:</b> int64</label>"
            ]
          },
          "metadata": {},
          "execution_count": 40
        }
      ]
    },
    {
      "cell_type": "code",
      "source": [
        "from sklearn.metrics import ConfusionMatrixDisplay\n",
        "ConfusionMatrixDisplay.from_predictions(ytest, ypred_test)"
      ],
      "metadata": {
        "colab": {
          "base_uri": "https://localhost:8080/",
          "height": 472
        },
        "id": "Odp_HxknCrJb",
        "outputId": "c2cd59d0-89a1-4491-cb8d-c9b522011e86"
      },
      "execution_count": 41,
      "outputs": [
        {
          "output_type": "execute_result",
          "data": {
            "text/plain": [
              "<sklearn.metrics._plot.confusion_matrix.ConfusionMatrixDisplay at 0x7f2798022a10>"
            ]
          },
          "metadata": {},
          "execution_count": 41
        },
        {
          "output_type": "display_data",
          "data": {
            "text/plain": [
              "<Figure size 640x480 with 2 Axes>"
            ],
            "image/png": "[encoded data removed]"
          },
          "metadata": {}
        }
      ]
    },
    {
      "cell_type": "code",
      "source": [
        "from sklearn.metrics import classification_report"
      ],
      "metadata": {
        "id": "IEHPXVlUCvMq"
      },
      "execution_count": 42,
      "outputs": []
    },
    {
      "cell_type": "code",
      "source": [
        "print(classification_report(ytest, ypred_test))"
      ],
      "metadata": {
        "colab": {
          "base_uri": "https://localhost:8080/"
        },
        "id": "4k0fZ0ZpCy7S",
        "outputId": "7d3f45c3-232a-4f79-fea2-2426d524cf71"
      },
      "execution_count": 43,
      "outputs": [
        {
          "output_type": "stream",
          "name": "stdout",
          "text": [
            "              precision    recall  f1-score   support\n",
            "\n",
            "           0       0.76      0.80      0.78        96\n",
            "           1       0.81      0.77      0.79       104\n",
            "\n",
            "    accuracy                           0.79       200\n",
            "   macro avg       0.79      0.79      0.78       200\n",
            "weighted avg       0.79      0.79      0.79       200\n",
            "\n"
          ]
        }
      ]
    },
    {
      "cell_type": "code",
      "source": [
        "from sklearn.metrics import RocCurveDisplay\n",
        "RocCurveDisplay.from_predictions(ytest, yprob_test)"
      ],
      "metadata": {
        "colab": {
          "base_uri": "https://localhost:8080/",
          "height": 468
        },
        "id": "xbKN4MhSC1DX",
        "outputId": "2e3cedb1-3d8d-4652-cbbf-f57ccd969525"
      },
      "execution_count": 44,
      "outputs": [
        {
          "output_type": "execute_result",
          "data": {
            "text/plain": [
              "<sklearn.metrics._plot.roc_curve.RocCurveDisplay at 0x7f271827fb50>"
            ]
          },
          "metadata": {},
          "execution_count": 44
        },
        {
          "output_type": "display_data",
          "data": {
            "text/plain": [
              "<Figure size 640x480 with 1 Axes>"
            ],
            "image/png": "[encoded data removed]"
          },
          "metadata": {}
        }
      ]
    },
    {
      "cell_type": "markdown",
      "source": [
        "# Out of sample prediction"
      ],
      "metadata": {
        "id": "2-CbVtJxC7RM"
      }
    },
    {
      "cell_type": "code",
      "source": [
        "def out_of_sample_pred(text):\n",
        "  text = clean_text(text)\n",
        "  text_pre = tfidf.transform([text]).toarray()\n",
        "  prob = model.predict(text_pre)\n",
        "  if prob >= 0.5:\n",
        "    return \"positive\", prob.round(4)[0][0]\n",
        "  else:\n",
        "    return \"negative\", prob.round(4)[0][0]"
      ],
      "metadata": {
        "id": "gybVtssDC4Rz"
      },
      "execution_count": 45,
      "outputs": []
    },
    {
      "cell_type": "code",
      "source": [
        "text1 = \"Very good place, i liked the ambience! ...\"\n",
        "out_of_sample_pred(text1)"
      ],
      "metadata": {
        "colab": {
          "base_uri": "https://localhost:8080/"
        },
        "id": "TfGok7hDDAE0",
        "outputId": "9f024330-4f8a-490a-d74e-6482cb674000"
      },
      "execution_count": 46,
      "outputs": [
        {
          "output_type": "stream",
          "name": "stdout",
          "text": [
            "\u001b[1m1/1\u001b[0m \u001b[32m━━━━━━━━━━━━━━━━━━━━\u001b[0m\u001b[37m\u001b[0m \u001b[1m0s\u001b[0m 265ms/step\n"
          ]
        },
        {
          "output_type": "execute_result",
          "data": {
            "text/plain": [
              "('positive', 0.9976)"
            ]
          },
          "metadata": {},
          "execution_count": 46
        }
      ]
    },
    {
      "cell_type": "code",
      "source": [
        "text2 = \"Bad place, Service was so slow.\"\n",
        "s2, prob2 = out_of_sample_pred(text2)"
      ],
      "metadata": {
        "colab": {
          "base_uri": "https://localhost:8080/"
        },
        "id": "9OVUHPEoDCmY",
        "outputId": "9ca0fa16-4030-40ca-e177-44bdf00aa795"
      },
      "execution_count": 47,
      "outputs": [
        {
          "output_type": "stream",
          "name": "stdout",
          "text": [
            "\u001b[1m1/1\u001b[0m \u001b[32m━━━━━━━━━━━━━━━━━━━━\u001b[0m\u001b[37m\u001b[0m \u001b[1m0s\u001b[0m 25ms/step\n"
          ]
        }
      ]
    },
    {
      "cell_type": "code",
      "source": [
        "s2"
      ],
      "metadata": {
        "colab": {
          "base_uri": "https://localhost:8080/",
          "height": 36
        },
        "id": "NgnECWLgDFst",
        "outputId": "a1fa5551-bc49-444b-9371-14433553d83f"
      },
      "execution_count": 48,
      "outputs": [
        {
          "output_type": "execute_result",
          "data": {
            "text/plain": [
              "'negative'"
            ],
            "application/vnd.google.colaboratory.intrinsic+json": {
              "type": "string"
            }
          },
          "metadata": {},
          "execution_count": 48
        }
      ]
    },
    {
      "cell_type": "code",
      "source": [
        "print(f\"Probability : {prob2:.4f}\")"
      ],
      "metadata": {
        "colab": {
          "base_uri": "https://localhost:8080/"
        },
        "id": "D-CTzWfTDITy",
        "outputId": "fabbe584-0dfe-4f6b-db3a-e408f9d39dff"
      },
      "execution_count": 49,
      "outputs": [
        {
          "output_type": "stream",
          "name": "stdout",
          "text": [
            "Probability : 0.0000\n"
          ]
        }
      ]
    },
    {
      "cell_type": "code",
      "source": [
        "text3 = \"The taste was averge overall it was an ok experience\"\n",
        "out_of_sample_pred(text3)"
      ],
      "metadata": {
        "colab": {
          "base_uri": "https://localhost:8080/"
        },
        "id": "w8m3TrP_DLeA",
        "outputId": "0dc9d253-e40e-4806-d7ee-75f3906a282d"
      },
      "execution_count": 50,
      "outputs": [
        {
          "output_type": "stream",
          "name": "stdout",
          "text": [
            "\u001b[1m1/1\u001b[0m \u001b[32m━━━━━━━━━━━━━━━━━━━━\u001b[0m\u001b[37m\u001b[0m \u001b[1m0s\u001b[0m 32ms/step\n"
          ]
        },
        {
          "output_type": "execute_result",
          "data": {
            "text/plain": [
              "('negative', 0.1226)"
            ]
          },
          "metadata": {},
          "execution_count": 50
        }
      ]
    },
    {
      "cell_type": "code",
      "source": [
        "text4 = \"The service was very good, I was quite impressed by food\"\n",
        "out_of_sample_pred(text4)"
      ],
      "metadata": {
        "colab": {
          "base_uri": "https://localhost:8080/"
        },
        "id": "pMraEBPKDUEl",
        "outputId": "a8833b4c-5c54-4911-8dec-b054bb2040ed"
      },
      "execution_count": 51,
      "outputs": [
        {
          "output_type": "stream",
          "name": "stdout",
          "text": [
            "\u001b[1m1/1\u001b[0m \u001b[32m━━━━━━━━━━━━━━━━━━━━\u001b[0m\u001b[37m\u001b[0m \u001b[1m0s\u001b[0m 62ms/step\n"
          ]
        },
        {
          "output_type": "execute_result",
          "data": {
            "text/plain": [
              "('positive', 0.9047)"
            ]
          },
          "metadata": {},
          "execution_count": 51
        }
      ]
    },
    {
      "cell_type": "markdown",
      "source": [
        "# Save The model"
      ],
      "metadata": {
        "id": "YbUV-dABDaFi"
      }
    },
    {
      "cell_type": "code",
      "source": [
        "model.save(\"sentiment_model.keras\")"
      ],
      "metadata": {
        "id": "vz88EuN_DWhN"
      },
      "execution_count": 52,
      "outputs": []
    },
    {
      "cell_type": "markdown",
      "source": [
        "# Load the model"
      ],
      "metadata": {
        "id": "zZgglADtDhtl"
      }
    },
    {
      "cell_type": "code",
      "source": [
        "from keras.models import load_model"
      ],
      "metadata": {
        "id": "Rq0_7nQRDd8q"
      },
      "execution_count": 53,
      "outputs": []
    },
    {
      "cell_type": "code",
      "source": [
        "m = load_model(\"/content/sentiment_model.keras\")\n",
        "m.summary()"
      ],
      "metadata": {
        "colab": {
          "base_uri": "https://localhost:8080/",
          "height": 305
        },
        "id": "kfSyNvQGDoF3",
        "outputId": "e7f0bcb2-8b38-467e-f92d-10670200fc19"
      },
      "execution_count": 54,
      "outputs": [
        {
          "output_type": "display_data",
          "data": {
            "text/plain": [
              "\u001b[1mModel: \"sequential\"\u001b[0m\n"
            ],
            "text/html": [
              "<pre style=\"white-space:pre;overflow-x:auto;line-height:normal;font-family:Menlo,'DejaVu Sans Mono',consolas,'Courier New',monospace\"><span style=\"font-weight: bold\">Model: \"sequential\"</span>\n",
              "</pre>\n"
            ]
          },
          "metadata": {}
        },
        {
          "output_type": "display_data",
          "data": {
            "text/plain": [
              "┏━━━━━━━━━━━━━━━━━━━━━━━━━━━━━━━━━━━━━━┳━━━━━━━━━━━━━━━━━━━━━━━━━━━━━┳━━━━━━━━━━━━━━━━━┓\n",
              "┃\u001b[1m \u001b[0m\u001b[1mLayer (type)                        \u001b[0m\u001b[1m \u001b[0m┃\u001b[1m \u001b[0m\u001b[1mOutput Shape               \u001b[0m\u001b[1m \u001b[0m┃\u001b[1m \u001b[0m\u001b[1m        Param #\u001b[0m\u001b[1m \u001b[0m┃\n",
              "┡━━━━━━━━━━━━━━━━━━━━━━━━━━━━━━━━━━━━━━╇━━━━━━━━━━━━━━━━━━━━━━━━━━━━━╇━━━━━━━━━━━━━━━━━┩\n",
              "│ dense (\u001b[38;5;33mDense\u001b[0m)                        │ (\u001b[38;5;45mNone\u001b[0m, \u001b[38;5;34m64\u001b[0m)                  │         \u001b[38;5;34m131,008\u001b[0m │\n",
              "├──────────────────────────────────────┼─────────────────────────────┼─────────────────┤\n",
              "│ dropout (\u001b[38;5;33mDropout\u001b[0m)                    │ (\u001b[38;5;45mNone\u001b[0m, \u001b[38;5;34m64\u001b[0m)                  │               \u001b[38;5;34m0\u001b[0m │\n",
              "├──────────────────────────────────────┼─────────────────────────────┼─────────────────┤\n",
              "│ dense_1 (\u001b[38;5;33mDense\u001b[0m)                      │ (\u001b[38;5;45mNone\u001b[0m, \u001b[38;5;34m32\u001b[0m)                  │           \u001b[38;5;34m2,080\u001b[0m │\n",
              "├──────────────────────────────────────┼─────────────────────────────┼─────────────────┤\n",
              "│ dropout_1 (\u001b[38;5;33mDropout\u001b[0m)                  │ (\u001b[38;5;45mNone\u001b[0m, \u001b[38;5;34m32\u001b[0m)                  │               \u001b[38;5;34m0\u001b[0m │\n",
              "├──────────────────────────────────────┼─────────────────────────────┼─────────────────┤\n",
              "│ dense_2 (\u001b[38;5;33mDense\u001b[0m)                      │ (\u001b[38;5;45mNone\u001b[0m, \u001b[38;5;34m1\u001b[0m)                   │              \u001b[38;5;34m33\u001b[0m │\n",
              "└──────────────────────────────────────┴─────────────────────────────┴─────────────────┘\n"
            ],
            "text/html": [
              "<pre style=\"white-space:pre;overflow-x:auto;line-height:normal;font-family:Menlo,'DejaVu Sans Mono',consolas,'Courier New',monospace\">┏━━━━━━━━━━━━━━━━━━━━━━━━━━━━━━━━━━━━━━┳━━━━━━━━━━━━━━━━━━━━━━━━━━━━━┳━━━━━━━━━━━━━━━━━┓\n",
              "┃<span style=\"font-weight: bold\"> Layer (type)                         </span>┃<span style=\"font-weight: bold\"> Output Shape                </span>┃<span style=\"font-weight: bold\">         Param # </span>┃\n",
              "┡━━━━━━━━━━━━━━━━━━━━━━━━━━━━━━━━━━━━━━╇━━━━━━━━━━━━━━━━━━━━━━━━━━━━━╇━━━━━━━━━━━━━━━━━┩\n",
              "│ dense (<span style=\"color: #0087ff; text-decoration-color: #0087ff\">Dense</span>)                        │ (<span style=\"color: #00d7ff; text-decoration-color: #00d7ff\">None</span>, <span style=\"color: #00af00; text-decoration-color: #00af00\">64</span>)                  │         <span style=\"color: #00af00; text-decoration-color: #00af00\">131,008</span> │\n",
              "├──────────────────────────────────────┼─────────────────────────────┼─────────────────┤\n",
              "│ dropout (<span style=\"color: #0087ff; text-decoration-color: #0087ff\">Dropout</span>)                    │ (<span style=\"color: #00d7ff; text-decoration-color: #00d7ff\">None</span>, <span style=\"color: #00af00; text-decoration-color: #00af00\">64</span>)                  │               <span style=\"color: #00af00; text-decoration-color: #00af00\">0</span> │\n",
              "├──────────────────────────────────────┼─────────────────────────────┼─────────────────┤\n",
              "│ dense_1 (<span style=\"color: #0087ff; text-decoration-color: #0087ff\">Dense</span>)                      │ (<span style=\"color: #00d7ff; text-decoration-color: #00d7ff\">None</span>, <span style=\"color: #00af00; text-decoration-color: #00af00\">32</span>)                  │           <span style=\"color: #00af00; text-decoration-color: #00af00\">2,080</span> │\n",
              "├──────────────────────────────────────┼─────────────────────────────┼─────────────────┤\n",
              "│ dropout_1 (<span style=\"color: #0087ff; text-decoration-color: #0087ff\">Dropout</span>)                  │ (<span style=\"color: #00d7ff; text-decoration-color: #00d7ff\">None</span>, <span style=\"color: #00af00; text-decoration-color: #00af00\">32</span>)                  │               <span style=\"color: #00af00; text-decoration-color: #00af00\">0</span> │\n",
              "├──────────────────────────────────────┼─────────────────────────────┼─────────────────┤\n",
              "│ dense_2 (<span style=\"color: #0087ff; text-decoration-color: #0087ff\">Dense</span>)                      │ (<span style=\"color: #00d7ff; text-decoration-color: #00d7ff\">None</span>, <span style=\"color: #00af00; text-decoration-color: #00af00\">1</span>)                   │              <span style=\"color: #00af00; text-decoration-color: #00af00\">33</span> │\n",
              "└──────────────────────────────────────┴─────────────────────────────┴─────────────────┘\n",
              "</pre>\n"
            ]
          },
          "metadata": {}
        },
        {
          "output_type": "display_data",
          "data": {
            "text/plain": [
              "\u001b[1m Total params: \u001b[0m\u001b[38;5;34m399,365\u001b[0m (1.52 MB)\n"
            ],
            "text/html": [
              "<pre style=\"white-space:pre;overflow-x:auto;line-height:normal;font-family:Menlo,'DejaVu Sans Mono',consolas,'Courier New',monospace\"><span style=\"font-weight: bold\"> Total params: </span><span style=\"color: #00af00; text-decoration-color: #00af00\">399,365</span> (1.52 MB)\n",
              "</pre>\n"
            ]
          },
          "metadata": {}
        },
        {
          "output_type": "display_data",
          "data": {
            "text/plain": [
              "\u001b[1m Trainable params: \u001b[0m\u001b[38;5;34m133,121\u001b[0m (520.00 KB)\n"
            ],
            "text/html": [
              "<pre style=\"white-space:pre;overflow-x:auto;line-height:normal;font-family:Menlo,'DejaVu Sans Mono',consolas,'Courier New',monospace\"><span style=\"font-weight: bold\"> Trainable params: </span><span style=\"color: #00af00; text-decoration-color: #00af00\">133,121</span> (520.00 KB)\n",
              "</pre>\n"
            ]
          },
          "metadata": {}
        },
        {
          "output_type": "display_data",
          "data": {
            "text/plain": [
              "\u001b[1m Non-trainable params: \u001b[0m\u001b[38;5;34m0\u001b[0m (0.00 B)\n"
            ],
            "text/html": [
              "<pre style=\"white-space:pre;overflow-x:auto;line-height:normal;font-family:Menlo,'DejaVu Sans Mono',consolas,'Courier New',monospace\"><span style=\"font-weight: bold\"> Non-trainable params: </span><span style=\"color: #00af00; text-decoration-color: #00af00\">0</span> (0.00 B)\n",
              "</pre>\n"
            ]
          },
          "metadata": {}
        },
        {
          "output_type": "display_data",
          "data": {
            "text/plain": [
              "\u001b[1m Optimizer params: \u001b[0m\u001b[38;5;34m266,244\u001b[0m (1.02 MB)\n"
            ],
            "text/html": [
              "<pre style=\"white-space:pre;overflow-x:auto;line-height:normal;font-family:Menlo,'DejaVu Sans Mono',consolas,'Courier New',monospace\"><span style=\"font-weight: bold\"> Optimizer params: </span><span style=\"color: #00af00; text-decoration-color: #00af00\">266,244</span> (1.02 MB)\n",
              "</pre>\n"
            ]
          },
          "metadata": {}
        }
      ]
    },
    {
      "cell_type": "code",
      "source": [],
      "metadata": {
        "id": "-c0uwoJhDqtc"
      },
      "execution_count": null,
      "outputs": []
    }
  ]
}